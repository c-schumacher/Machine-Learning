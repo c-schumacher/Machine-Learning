{
 "cells": [
  {
   "cell_type": "code",
   "execution_count": 1,
   "metadata": {
    "collapsed": true
   },
   "outputs": [],
   "source": [
    "import pandas as pd\n",
    "import numpy as np\n",
    "import matplotlib\n",
    "from matplotlib import pyplot as plt\n",
    "from matplotlib.pyplot import figure\n",
    "import random\n",
    "from sklearn.preprocessing import MinMaxScaler\n",
    "from sklearn.impute import SimpleImputer\n",
    "from sklearn.feature_selection import SelectFromModel\n",
    "from sklearn.ensemble import ExtraTreesClassifier\n",
    "import pickle\n",
    "%matplotlib inline"
   ]
  },
  {
   "cell_type": "markdown",
   "metadata": {},
   "source": [
    "Setting up training and testing files"
   ]
  },
  {
   "cell_type": "code",
   "execution_count": 2,
   "metadata": {
    "collapsed": true
   },
   "outputs": [],
   "source": [
    "X_train = pd.read_csv('train10000.csv', header=None)\n",
    "y_train = pd.read_csv('train10000_label.csv', names=['Target'], squeeze=True)\n",
    "X_test = pd.read_csv('test10000.csv', header=None)\n",
    "y_test = pd.read_csv('test10000_label.csv', names=['Target'], squeeze=True)\n",
    "\n",
    "df_train = pd.concat([X_train, y_train], axis=1, ignore_index=False)\n",
    "df_test = pd.concat([X_test, y_test], axis=1, ignore_index=False)"
   ]
  },
  {
   "cell_type": "markdown",
   "metadata": {},
   "source": [
    "Highlighting the severely imbalanced target variable in the training data (will need to undersample or oversample for this)"
   ]
  },
  {
   "cell_type": "code",
   "execution_count": 3,
   "metadata": {},
   "outputs": [
    {
     "data": {
      "image/png": "[encoded data removed]",
      "text/plain": [
       "<matplotlib.figure.Figure at 0xcaa2be0>"
      ]
     },
     "metadata": {},
     "output_type": "display_data"
    }
   ],
   "source": [
    "figure(figsize=(8,6))\n",
    "plt.hist(df_train['Target'],bins=np.arange(3)-0.5)\n",
    "plt.title(\"Imbalanced Target Class in Training Data\")\n",
    "plt.xlabel('Non-Customer (0) vs. Customer (1)')\n",
    "plt.ylabel('Count')\n",
    "plt.xticks([0,1])\n",
    "plt.yticks(np.arange(0,10000, 1000))\n",
    "plt.show()"
   ]
  },
  {
   "cell_type": "markdown",
   "metadata": {},
   "source": [
    "Checking for any features which have missing values in their rows. These appear to be encoded as 999000.0"
   ]
  },
  {
   "cell_type": "code",
   "execution_count": 4,
   "metadata": {},
   "outputs": [
    {
     "name": "stdout",
     "output_type": "stream",
     "text": [
      "Column:  0  - 999000 encoded missing values present\n",
      "Column:  2  - 999000 encoded missing values present\n",
      "Column:  5  - 999000 encoded missing values present\n",
      "Column:  6  - 999000 encoded missing values present\n",
      "Column:  7  - 999000 encoded missing values present\n",
      "Column:  8  - 999000 encoded missing values present\n",
      "Column:  9  - 999000 encoded missing values present\n",
      "Column:  12  - 999000 encoded missing values present\n",
      "Column:  14  - 999000 encoded missing values present\n",
      "Column:  27  - 999000 encoded missing values present\n",
      "Column:  28  - 999000 encoded missing values present\n"
     ]
    }
   ],
   "source": [
    "nm_cols = [] # list of columns indices for those w/o missing vals\n",
    "m_cols = [] # list of column indices which have missing vals\n",
    "for c_idx, series in df_train.iteritems():\n",
    "    if series.isnull().any():\n",
    "        print \"Column: \", c_idx, \" null values present\"\n",
    "        m_cols.append(c_idx)\n",
    "        continue\n",
    "    elif series.isin([999000]).any():\n",
    "        print \"Column: \", c_idx,\" - 999000 encoded missing values present\"\n",
    "        m_cols.append(c_idx)\n",
    "        continue\n",
    "    nm_cols.append(c_idx)"
   ]
  },
  {
   "cell_type": "markdown",
   "metadata": {},
   "source": [
    "For columns with missing values I am checking what percentage of the values are missing. If there is a high percentage of missing values it won't make sense to impute based on other values in that row. \n",
    "\n",
    "Additionally, it is most likely not in our best interest to impute for features which are binary, so that should be avoided (columns with three variables represent binary since the third value is the missing one). Columns with low variable count but greater than 3 are likely ordinal and will be manually inspected"
   ]
  },
  {
   "cell_type": "code",
   "execution_count": 5,
   "metadata": {},
   "outputs": [
    {
     "name": "stdout",
     "output_type": "stream",
     "text": [
      "Column: 0 \t: #vars = 3 \t\t52.11% missing\n",
      "Column: 2 \t: #vars = 8 \t\t24.38% missing\n",
      "Column: 5 \t: #vars = 3 \t\t24.02% missing\n",
      "Column: 6 \t: #vars = 5 \t\t43.13% missing\n",
      "Column: 7 \t: #vars = 10 \t\t70.73% missing\n",
      "Column: 8 \t: #vars = 10 \t\t30.24% missing\n",
      "Column: 9 \t: #vars = 4 \t\t54.31% missing\n",
      "Column: 12 \t: #vars = 19 \t\t77.04% missing\n",
      "Column: 14 \t: #vars = 3 \t\t52.11% missing\n",
      "Column: 27 \t: #vars = 2853 \t\t5.04% missing\n",
      "Column: 28 \t: #vars = 11 \t\t5.04% missing\n"
     ]
    }
   ],
   "source": [
    "for idx in m_cols:\n",
    "    percentages = df_train[idx].value_counts(normalize=True)\n",
    "    n_vars = len(percentages)\n",
    "    print \"Column:\",idx, \"\\t: #vars =\", n_vars, \"\\t\\t{0}% missing\".format(percentages[999000]*100)"
   ]
  },
  {
   "cell_type": "markdown",
   "metadata": {},
   "source": [
    "The training data appears to have several columns with missing values encoded as 999000. Many of these have a very high amount of missing data. I will make copies of the training dataset:\n",
    "- 1: raw data set\n",
    "- 2: raw data set with columns removed that have missing vals\n",
    "- 3: raw data set with impute values for columns missing less than 25% of their data\n",
    "\n",
    "- 1a: data set #1 + feature normalization to (0,1)\n",
    "- 2a: data set #2 + feature normalization to (0,1)\n",
    "- 3a: data set #3 + feature normalization to (0,1)\n",
    "\n",
    "- 1b: data set #1 + feature selection with feature importance from ExtraTreesClassifier\n",
    "- 2b: data set #2 + feature selection with feature importance from ExtraTreesClassifier\n",
    "- 3b: data set #3 + feature selection with feature importance from ExtraTreesClassifier\n",
    "\n",
    "- 1c: data set #1a + feature selection with feature importance from ExtraTreesClassifier\n",
    "- 2c: data set #2a + feature selection with feature importance from ExtraTreesClassifier\n",
    "- 3c: data set #3a + feature selection with feature importance from ExtraTreesClassifier\n",
    "\n",
    "Each of these datasets will be balanced using k-fold stratified sampling "
   ]
  },
  {
   "cell_type": "code",
   "execution_count": 6,
   "metadata": {
    "collapsed": true
   },
   "outputs": [],
   "source": [
    "def preprocess(df_trn, df_tst, mvals='remove_cols', impute_strat='most_frequent',\n",
    "               normalize=True, feat_select=True):\n",
    "    # partitioning training and testing in order to preprocess\n",
    "    df_train = df_trn\n",
    "    df_test = df_tst\n",
    "    \n",
    "    X_train = df_train.iloc[:, 0:len(df_train.columns)-1]\n",
    "    y_train = df_train.iloc[:, len(df_train.columns)-1]\n",
    "    X_test = df_test.iloc[:, 0:len(df_test.columns)-1]\n",
    "    y_test = df_test.iloc[:, len(df_test.columns)-1]\n",
    "    \n",
    "    # deciding how to handle columns with missing values (encoded 999000)\n",
    "    # options are removing columns entirely, imputing for all, or imputing\n",
    "    # those with only a reasonable portion of missing data (<25%)\n",
    "    nm_cols = [] # list of columns indices for those w/o missing vals\n",
    "    m_cols = [] # list of column indices which have missing vals\n",
    "    for c_idx, series in X_train.iteritems():\n",
    "        if series.isnull().any():\n",
    "            m_cols.append(c_idx)\n",
    "            continue\n",
    "        elif series.isin([999000]).any():\n",
    "            m_cols.append(c_idx)\n",
    "            continue\n",
    "        nm_cols.append(c_idx)\n",
    "    \n",
    "    # either removing columns with missing values or imputing for those vals\n",
    "    if mvals != None:\n",
    "        if mvals == 'remove_cols':\n",
    "            X_train = X_train[nm_cols]\n",
    "            X_test = X_test[nm_cols]\n",
    "        elif mvals == 'impute':\n",
    "            for idx in m_cols:\n",
    "                if X_train[idx].value_counts(normalize=True)[999000] > 0.25:\n",
    "                    X_train.drop([idx], axis=1, inplace=True)\n",
    "                    X_test.drop([idx], axis=1, inplace=True)\n",
    "                else:\n",
    "                    X_train[idx].replace(999000.0, np.nan, inplace=True)\n",
    "                    X_test[idx].replace(999000.0, np.nan, inplace=True)\n",
    "\n",
    "            imputer = SimpleImputer(strategy=impute_strat) \n",
    "            imputer.fit(X_train, y_train)\n",
    "            X_train = pd.DataFrame(data=imputer.transform(X_train))\n",
    "            X_test = pd.DataFrame(data=imputer.transform(X_test))\n",
    "                    \n",
    "    # normalizing or not, being consistent with training and test\n",
    "    if normalize == True:\n",
    "        scaler = MinMaxScaler()\n",
    "        scaler.fit(X_train)\n",
    "        X_train = pd.DataFrame(data=scaler.transform(X_train))\n",
    "        X_test = pd.DataFrame(data=scaler.transform(X_test))\n",
    "    \n",
    "    # using feature selection based on feat importance from extratreesclassifer\n",
    "    if feat_select == True:\n",
    "        xtree = ExtraTreesClassifier(n_estimators=50)\n",
    "        clf = xtree.fit(X_train, y_train)\n",
    "        model = SelectFromModel(clf, prefit=True)\n",
    "        clf_cols = X_train.columns[model.get_support()]\n",
    "        X_train = pd.DataFrame(data=model.transform(X_train), \n",
    "                              columns=clf_cols)\n",
    "        X_test = pd.DataFrame(data=model.transform(X_test), \n",
    "                              columns=clf_cols)\n",
    "    \n",
    "    df_train = pd.concat([X_train, y_train], axis=1, ignore_index=False)\n",
    "    df_test = pd.concat([X_test, y_test], axis=1, ignore_index=False)\n",
    "    \n",
    "    return (df_train, df_test)"
   ]
  },
  {
   "cell_type": "code",
   "execution_count": 7,
   "metadata": {},
   "outputs": [
    {
     "name": "stderr",
     "output_type": "stream",
     "text": [
      "C:\\Users\\Charlie\\Anaconda2\\lib\\site-packages\\sklearn\\preprocessing\\data.py:323: DataConversionWarning: Data with input dtype int64, float64 were all converted to float64 by MinMaxScaler.\n",
      "  return self.partial_fit(X, y)\n"
     ]
    }
   ],
   "source": [
    "# primary three models\n",
    "df_train1, df_test1 = df_train, df_test\n",
    "\n",
    "output2 = preprocess(df_train, df_test, mvals='remove_cols', normalize=False,\n",
    "                     feat_select=False)\n",
    "df_train2, df_test2 = output2[0], output2[1]\n",
    "\n",
    "output3 = preprocess(df_train, df_test, mvals='impute', normalize=False,\n",
    "                     feat_select=False)\n",
    "df_train3, df_test3 = output3[0], output3[1]\n",
    "\n",
    "\n",
    "# subgroup a\n",
    "output1a = preprocess(df_train, df_test, mvals=None, normalize=True,\n",
    "                     feat_select=False)\n",
    "df_train1a, df_test1a = output1a[0], output1a[1]\n",
    "\n",
    "output2a = preprocess(df_train, df_test, mvals='remove_cols', normalize=True,\n",
    "                     feat_select=False)\n",
    "df_train2a, df_test2a = output2a[0], output2a[1]\n",
    "\n",
    "output3a = preprocess(df_train, df_test, mvals='impute', normalize=True,\n",
    "                     feat_select=False)\n",
    "df_train3a, df_test3a = output3a[0], output3a[1]\n",
    "\n",
    "\n",
    "# subgroup b\n",
    "output1b = preprocess(df_train, df_test, mvals=None, normalize=False,\n",
    "                     feat_select=True)\n",
    "df_train1b, df_test1b = output1b[0], output1b[1]\n",
    "\n",
    "output2b = preprocess(df_train, df_test, mvals='remove_cols', normalize=False,\n",
    "                     feat_select=True)\n",
    "df_train2b, df_test2b = output2b[0], output2b[1]\n",
    "\n",
    "output3b = preprocess(df_train, df_test, mvals='impute', normalize=False,\n",
    "                     feat_select=True)\n",
    "df_train3b, df_test3b = output3b[0], output3b[1]\n",
    "\n",
    "\n",
    "# subgroup c\n",
    "output1c = preprocess(df_train, df_test, mvals=None, normalize=True,\n",
    "                     feat_select=True)\n",
    "df_train1c, df_test1c = output1c[0], output1c[1]\n",
    "\n",
    "output2c = preprocess(df_train, df_test, mvals='remove_cols', normalize=True,\n",
    "                     feat_select=True)\n",
    "df_train2c, df_test2c = output2c[0], output2c[1]\n",
    "\n",
    "output3c = preprocess(df_train, df_test, mvals='impute', normalize=True,\n",
    "                     feat_select=True)\n",
    "df_train3c, df_test3c = output3c[0], output3c[1]"
   ]
  },
  {
   "cell_type": "code",
   "execution_count": 8,
   "metadata": {
    "collapsed": true
   },
   "outputs": [],
   "source": [
    "datasets = [[df_train1, df_test1], [df_train2, df_test2],\n",
    "            [df_train3, df_test3], [df_train1a, df_test1a], \n",
    "            [df_train2a, df_test2a], [df_train3a, df_test3a], \n",
    "            [df_train1b, df_test1b], [df_train2b, df_test2b], \n",
    "            [df_train3b, df_test3b], [df_train1c, df_test1c], \n",
    "            [df_train2c, df_test2c], [df_train3c, df_test3c]]"
   ]
  },
  {
   "cell_type": "markdown",
   "metadata": {},
   "source": [
    "Generating copies of the dataset which use SMOTE to balance the data"
   ]
  },
  {
   "cell_type": "code",
   "execution_count": 9,
   "metadata": {
    "collapsed": true
   },
   "outputs": [],
   "source": [
    "from imblearn.over_sampling import SMOTE"
   ]
  },
  {
   "cell_type": "code",
   "execution_count": 10,
   "metadata": {
    "collapsed": true
   },
   "outputs": [],
   "source": [
    "smote = SMOTE(ratio='minority')"
   ]
  },
  {
   "cell_type": "code",
   "execution_count": 11,
   "metadata": {
    "collapsed": true
   },
   "outputs": [],
   "source": [
    "X_train_SM, y_train_SM = smote.fit_sample(X_train, y_train)"
   ]
  },
  {
   "cell_type": "code",
   "execution_count": null,
   "metadata": {
    "collapsed": true
   },
   "outputs": [],
   "source": [
    "X_train_SM = pd.DataFrame(data=X_train_SM)\n",
    "y_train_SM = pd.DataFrame(data=y_train_SM)\n",
    "\n",
    "df_train_SM = pd.concat([X_train_SM, y_train_SM], axis=1, ignore_index=False)\n",
    "df_test_SM = df_test.copy()"
   ]
  },
  {
   "cell_type": "code",
   "execution_count": null,
   "metadata": {
    "collapsed": true
   },
   "outputs": [],
   "source": [
    "# generating copies of the datasets based on the SMOTE over-balanced files\n",
    "# primary three models\n",
    "df_train_SM1, df_test_SM1 = df_train_SM, df_test_SM\n",
    "\n",
    "output2 = preprocess(df_train_SM, df_test_SM, mvals='remove_cols', \n",
    "                     normalize=False,feat_select=False)\n",
    "df_train_SM2, df_test_SM2 = output2[0], output2[1]\n",
    "\n",
    "output3 = preprocess(df_train_SM, df_test_SM, mvals='impute', \n",
    "                     normalize=False, feat_select=False)\n",
    "df_train_SM3, df_test_SM3 = output3[0], output3[1]\n",
    "\n",
    "\n",
    "# subgroup a\n",
    "output1a = preprocess(df_train_SM, df_test_SM, mvals=None, normalize=True,\n",
    "                     feat_select=False)\n",
    "df_train_SM1a, df_test_SM1a = output1a[0], output1a[1]\n",
    "\n",
    "output2a = preprocess(df_train_SM, df_test_SM, mvals='remove_cols', normalize=True,\n",
    "                     feat_select=False)\n",
    "df_train_SM2a, df_test_SM2a = output2a[0], output2a[1]\n",
    "\n",
    "output3a = preprocess(df_train_SM, df_test_SM, mvals='impute', normalize=True,\n",
    "                     feat_select=False)\n",
    "df_train_SM3a, df_test_SM3a = output3a[0], output3a[1]\n",
    "\n",
    "\n",
    "# subgroup b\n",
    "output1b = preprocess(df_train_SM, df_test_SM, mvals=None, normalize=False,\n",
    "                     feat_select=True)\n",
    "df_train_SM1b, df_test_SM1b = output1b[0], output1b[1]\n",
    "\n",
    "output2b = preprocess(df_train_SM, df_test_SM, mvals='remove_cols', normalize=False,\n",
    "                     feat_select=True)\n",
    "df_train_SM2b, df_test_SM2b = output2b[0], output2b[1]\n",
    "\n",
    "output3b = preprocess(df_train_SM, df_test_SM, mvals='impute', normalize=False,\n",
    "                     feat_select=True)\n",
    "df_train_SM3b, df_test_SM3b = output3b[0], output3b[1]\n",
    "\n",
    "\n",
    "# subgroup c\n",
    "output1c = preprocess(df_train_SM, df_test_SM, mvals=None, normalize=True,\n",
    "                     feat_select=True)\n",
    "df_train_SM1c, df_test_SM1c = output1c[0], output1c[1]\n",
    "\n",
    "output2c = preprocess(df_train_SM, df_test_SM, mvals='remove_cols', normalize=True,\n",
    "                     feat_select=True)\n",
    "df_train_SM2c, df_test_SM2c = output2c[0], output2c[1]\n",
    "\n",
    "output3c = preprocess(df_train_SM, df_test_SM, mvals='impute', normalize=True,\n",
    "                     feat_select=True)\n",
    "df_train_SM3c, df_test_SM3c = output3c[0], output3c[1]\n"
   ]
  },
  {
   "cell_type": "code",
   "execution_count": null,
   "metadata": {
    "collapsed": true
   },
   "outputs": [],
   "source": [
    "datasets_SM = [[df_train_SM1, df_test_SM1], [df_train_SM2, df_test_SM2],\n",
    "            [df_train_SM3, df_test_SM3], [df_train_SM1a, df_test1a], \n",
    "            [df_train_SM2a, df_test_SM2a], [df_train_SM3a, df_test_SM3a], \n",
    "            [df_train_SM1b, df_test_SM1b], [df_train_SM2b, df_test_SM2b], \n",
    "            [df_train_SM3b, df_test_SM3b], [df_train_SM1c, df_test_SM1c], \n",
    "            [df_train_SM2c, df_test_SM2c], [df_train_SM3c, df_test_SM3c]]"
   ]
  },
  {
   "cell_type": "code",
   "execution_count": 128,
   "metadata": {
    "collapsed": true
   },
   "outputs": [],
   "source": [
    "pickle.dump([datasets,datasets_SM], open('datasets.p', 'w'))"
   ]
  },
  {
   "cell_type": "markdown",
   "metadata": {},
   "source": [
    "Setting up a testing pipeline for comparing decision trees and random forests. Using stratified k-fold on each models training set with 66/33 training/testing split and using the testing set as validation, across a grid search of parameters "
   ]
  },
  {
   "cell_type": "code",
   "execution_count": 7,
   "metadata": {
    "collapsed": true
   },
   "outputs": [],
   "source": [
    "from sklearn.tree import DecisionTreeClassifier\n",
    "from sklearn.ensemble import RandomForestClassifier\n",
    "from sklearn.model_selection import GridSearchCV\n",
    "from sklearn.metrics import precision_score\n",
    "from sklearn.metrics import recall_score\n",
    "from sklearn.metrics import f1_score\n",
    "from sklearn.metrics import accuracy_score\n",
    "from sklearn.metrics import confusion_matrix"
   ]
  },
  {
   "cell_type": "code",
   "execution_count": 178,
   "metadata": {
    "collapsed": true
   },
   "outputs": [],
   "source": [
    "def DTpipe(df_train, df_test):\n",
    "    param_grid = {'criterion': ['gini'],\n",
    "                  'max_depth': [None],\n",
    "                  'min_samples_split': [50, 75, 100],\n",
    "                  'min_samples_leaf': [10, 20, 30],\n",
    "                  'max_features': ['sqrt', None],\n",
    "                  'random_state': [0],\n",
    "                  'class_weight': ['balanced']       \n",
    "    }\n",
    "   \n",
    "    X_train = df_train.iloc[:, 0:len(df_train.columns)-1]\n",
    "    y_train = df_train.iloc[:, len(df_train.columns)-1]\n",
    "    X_test = df_test.iloc[:, 0:len(df_test.columns)-1]\n",
    "    y_test = df_test.iloc[:, len(df_test.columns)-1]\n",
    "    \n",
    "    dt_clf = DecisionTreeClassifier()\n",
    "    grid_search = GridSearchCV(estimator=dt_clf, param_grid=param_grid,\n",
    "                               cv=3)\n",
    "       \n",
    "    # fitting to the training data with 3 cross-folds and best params\n",
    "    clf = grid_search.fit(X_train, y_train)\n",
    "    \n",
    "    # getting predictions on resubstitution and generalization\n",
    "    y_train_pred = clf.predict(X_train)\n",
    "    y_test_pred = clf.predict(X_test)\n",
    "      \n",
    "    return (precision_score(y_train, y_train_pred),\n",
    "            recall_score(y_train, y_train_pred),\n",
    "            grid_search.best_estimator_)"
   ]
  },
  {
   "cell_type": "code",
   "execution_count": 65,
   "metadata": {
    "collapsed": true,
    "scrolled": true
   },
   "outputs": [],
   "source": [
    "DT_results = [DTpipe(x[0], x[1]) for x in datasets]"
   ]
  },
  {
   "cell_type": "code",
   "execution_count": 86,
   "metadata": {
    "collapsed": true
   },
   "outputs": [],
   "source": [
    "DT_results_SM = [DTpipe(x[0], x[1]) for x in datasets_SM]"
   ]
  },
  {
   "cell_type": "code",
   "execution_count": 136,
   "metadata": {
    "collapsed": true
   },
   "outputs": [],
   "source": [
    "pickle.dump([DT_results, DT_results_SM], open('DT_res.p', 'w'))"
   ]
  },
  {
   "cell_type": "code",
   "execution_count": 307,
   "metadata": {
    "collapsed": true
   },
   "outputs": [],
   "source": [
    "def RFpipe(df_train, df_test):\n",
    "    param_grid = {'n_estimators': [100],\n",
    "                  'criterion': ['gini'],\n",
    "                  'max_depth': [None],\n",
    "                  'min_samples_split': [50, 100],\n",
    "                  'min_samples_leaf': [25, 50],\n",
    "                  'max_features': ['sqrt'],\n",
    "                  'random_state': [0],\n",
    "                  'class_weight': ['balanced']      \n",
    "    }\n",
    "   \n",
    "    X_train = df_train.iloc[:, 0:len(df_train.columns)-1]\n",
    "    y_train = df_train.iloc[:, len(df_train.columns)-1]\n",
    "    X_test = df_test.iloc[:, 0:len(df_test.columns)-1]\n",
    "    y_test = df_test.iloc[:, len(df_test.columns)-1]\n",
    "    \n",
    "    rf_clf = RandomForestClassifier()\n",
    "    grid_search = GridSearchCV(estimator=rf_clf, param_grid=param_grid,\n",
    "                               cv=3)\n",
    "       \n",
    "    # fitting to the training data with 3 cross-folds and best params\n",
    "    clf = grid_search.fit(X_train, y_train)\n",
    "    \n",
    "    # getting predictions on resubstitution and generalization\n",
    "    y_train_pred = clf.predict(X_train)\n",
    "    y_test_pred = clf.predict(X_test)\n",
    "      \n",
    "    return (precision_score(y_train, y_train_pred),\n",
    "            recall_score(y_train, y_train_pred),\n",
    "            grid_search.best_estimator_)"
   ]
  },
  {
   "cell_type": "code",
   "execution_count": 149,
   "metadata": {
    "collapsed": true,
    "scrolled": true
   },
   "outputs": [],
   "source": [
    "RF_results = [RFpipe(x[0], x[1]) for x in datasets]"
   ]
  },
  {
   "cell_type": "code",
   "execution_count": 150,
   "metadata": {
    "collapsed": true
   },
   "outputs": [],
   "source": [
    "RF_results_SM = [RFpipe(x[0], x[1]) for x in datasets_SM]"
   ]
  },
  {
   "cell_type": "code",
   "execution_count": 151,
   "metadata": {
    "collapsed": true
   },
   "outputs": [],
   "source": [
    "pickle.dump([RF_results, RF_results_SM], open('RF_res.p', 'w'))"
   ]
  },
  {
   "cell_type": "markdown",
   "metadata": {},
   "source": [
    "Copying results"
   ]
  },
  {
   "cell_type": "code",
   "execution_count": 190,
   "metadata": {},
   "outputs": [
    {
     "name": "stdout",
     "output_type": "stream",
     "text": [
      "0.9968284947548183 0.8989110108898911\n",
      "0.9957322277771004 0.898251017489825\n",
      "0.9970667318504033 0.8973710262897371\n",
      "0.995376566492274 0.8999010009899902\n",
      "0.9957322277771004 0.898251017489825\n",
      "0.9964625518419127 0.8985810141898581\n",
      "0.9969332679097154 0.8939610603893962\n",
      "0.9975363389997536 0.8907710922890771\n",
      "0.9983996060568755 0.8920910790892091\n",
      "0.9963275798751378 0.8952810471895281\n",
      "0.9974191962639793 0.8927510724892751\n",
      "0.9960721738063091 0.8926410735892641\n"
     ]
    }
   ],
   "source": [
    "for i in RF_results_SM:\n",
    "    print i[0], i[1]"
   ]
  },
  {
   "cell_type": "markdown",
   "metadata": {},
   "source": [
    "Evaluating each of the Decision Tree and Random Forest models on the testing data"
   ]
  },
  {
   "cell_type": "code",
   "execution_count": 244,
   "metadata": {
    "collapsed": true
   },
   "outputs": [],
   "source": [
    "def generalize(datasets, resub_results):\n",
    "    test_results = []\n",
    "    \n",
    "    for i in range(0, len(datasets)):\n",
    "        df_trn, df_tst = datasets[i][0], datasets[i][1]\n",
    "        \n",
    "        X_trn = df_trn.iloc[:, 0:len(df_trn.columns)-1]\n",
    "        y_trn = df_trn.iloc[:, len(df_trn.columns)-1]\n",
    "        X_tst = df_tst.iloc[:, 0:len(df_tst.columns)-1]\n",
    "        y_tst = df_tst.iloc[:, len(df_tst.columns)-1]\n",
    "        \n",
    "        clf = resub_results[i][2]\n",
    "        clf.fit(X_trn, y_trn)\n",
    "        y_pred = clf.predict(X_tst)\n",
    "        \n",
    "        test_results.append([precision_score(y_tst, y_pred),\n",
    "                            recall_score(y_tst, y_pred),\n",
    "                            f1_score(y_tst, y_pred),\n",
    "                            accuracy_score(y_tst, y_pred),\n",
    "                            confusion_matrix(y_tst, y_pred)])\n",
    "    return test_results"
   ]
  },
  {
   "cell_type": "code",
   "execution_count": 247,
   "metadata": {
    "collapsed": true
   },
   "outputs": [],
   "source": [
    "DT_test_results = generalize(datasets, DT_results)"
   ]
  },
  {
   "cell_type": "code",
   "execution_count": 234,
   "metadata": {
    "collapsed": true
   },
   "outputs": [],
   "source": [
    "DT_test_results_SM = generalize(datasets_SM, DT_results_SM)"
   ]
  },
  {
   "cell_type": "code",
   "execution_count": 208,
   "metadata": {
    "collapsed": true
   },
   "outputs": [],
   "source": [
    "RF_test_results = generalize(datasets, RF_results)"
   ]
  },
  {
   "cell_type": "code",
   "execution_count": 209,
   "metadata": {
    "collapsed": true
   },
   "outputs": [],
   "source": [
    "RF_test_results_SM = generalize(datasets_SM, RF_results_SM)"
   ]
  },
  {
   "cell_type": "code",
   "execution_count": 251,
   "metadata": {},
   "outputs": [
    {
     "name": "stdout",
     "output_type": "stream",
     "text": [
      "0.1251798561151079 0.3706070287539936 0.1871470825490723 0.6977\n",
      "0.11891891891891893 0.32800851970181044 0.17455369793142536 0.7087\n",
      "0.1197289156626506 0.33865814696485624 0.1769123783031989 0.7041\n",
      "0.1251798561151079 0.3706070287539936 0.1871470825490723 0.6977\n",
      "0.11891891891891893 0.32800851970181044 0.17455369793142536 0.7087\n",
      "0.1197289156626506 0.33865814696485624 0.1769123783031989 0.7041\n",
      "0.12102653834937299 0.44195953141640043 0.19001831501831504 0.6462\n",
      "0.1149298872697278 0.44515441959531415 0.1826923076923077 0.626\n",
      "0.11236288170767862 0.4036208732694356 0.17578849721706863 0.6446\n",
      "0.11603570329332102 0.4014909478168264 0.18003820439350524 0.6566\n",
      "0.10787716955941255 0.43024494142705005 0.17250213492741248 0.6124\n",
      "0.10637103564412012 0.4036208732694356 0.16836961350510884 0.6256\n"
     ]
    }
   ],
   "source": [
    "for i in DT_test_results:\n",
    "    print i[0], i[1], i[2], i[3]"
   ]
  }
 ],
 "metadata": {
  "kernelspec": {
   "display_name": "Python 2",
   "language": "python",
   "name": "python2"
  },
  "language_info": {
   "codemirror_mode": {
    "name": "ipython",
    "version": 2
   },
   "file_extension": ".py",
   "mimetype": "text/x-python",
   "name": "python",
   "nbconvert_exporter": "python",
   "pygments_lexer": "ipython2",
   "version": "2.7.15"
  }
 },
 "nbformat": 4,
 "nbformat_minor": 2
}
