{
 "cells": [
  {
   "cell_type": "code",
   "execution_count": 1,
   "metadata": {
    "collapsed": true
   },
   "outputs": [],
   "source": [
    "import pandas as pd\n",
    "from sklearn.ensemble import RandomForestClassifier\n",
    "from sklearn.model_selection import train_test_split\n",
    "from sklearn.metrics import confusion_matrix\n",
    "from matplotlib import pyplot as plt\n",
    "from matplotlib.pyplot import figure\n",
    "from collections import OrderedDict\n",
    "%matplotlib inline"
   ]
  },
  {
   "cell_type": "code",
   "execution_count": 2,
   "metadata": {
    "collapsed": true
   },
   "outputs": [],
   "source": [
    "# n1, n2, n3 indicate which cell nucleus the features correspond to\n",
    "\n",
    "cols = [i+j for i in ['n1_','n2_','n3_'] for j in ['radius', 'texture', \n",
    "                                            'perimeter', 'area',\n",
    "                                            'smoothness','compactness',\n",
    "                                            'concavity',\n",
    "                                            'concave_points','symmetry',\n",
    "                                            'fractal_dim']]\n",
    "cols = ['id','diagnosis']+cols"
   ]
  },
  {
   "cell_type": "code",
   "execution_count": 3,
   "metadata": {},
   "outputs": [],
   "source": [
    "df = pd.read_csv('breast_cancer_data.csv', header=None, names=cols)\n",
    "df.drop(['id'], axis=1, inplace=True)"
   ]
  },
  {
   "cell_type": "code",
   "execution_count": 4,
   "metadata": {},
   "outputs": [],
   "source": [
    "#setting up the training data and shuffling\n",
    "df = df.sample(frac=1)\n",
    "X, y = df.iloc[:, 1:len(df.columns)], df['diagnosis']\n",
    "Xtrain, Xtest, ytrain, ytest = train_test_split(X, y, stratify=y,\n",
    "                                               test_size=0.75)"
   ]
  },
  {
   "cell_type": "code",
   "execution_count": 5,
   "metadata": {},
   "outputs": [
    {
     "data": {
      "image/png": "[encoded data removed]",
      "text/plain": [
       "<matplotlib.figure.Figure at 0xd5a94e0>"
      ]
     },
     "metadata": {},
     "output_type": "display_data"
    }
   ],
   "source": [
    "#setting up parameters for testing a range of classifiers to evaluate best #\n",
    "rf_clfs_list = [ (\"RandomForestClassifier, max_features=None\", \n",
    "                  RandomForestClassifier(warm_start=True, \n",
    "                                         max_features=None, \n",
    "                                         oob_score=True))]\n",
    "min_trees = 10\n",
    "max_trees = 500\n",
    "error_rate = OrderedDict((label, []) for label, _ in rf_clfs_list)\n",
    "\n",
    "figure(figsize=(8,6))\n",
    "# using sklearn recipe for nice visualization of oob error\n",
    "for label, rf_clf in rf_clfs_list:\n",
    "    for i in range(min_trees, max_trees+1):\n",
    "        rf_clf.set_params(n_estimators=i)\n",
    "        rf_clf.fit(Xtrain, ytrain)\n",
    "        oob_error = 1 - rf_clf.oob_score_\n",
    "        error_rate[label].append((i, oob_error))\n",
    "        \n",
    "for label, rf_clf_error in error_rate.items():\n",
    "    xs, ys = zip(*rf_clf_error)\n",
    "    plt.plot(xs, ys, label=label)\n",
    "\n",
    "plt.xlim(min_trees, max_trees)\n",
    "plt.xlabel(\"Number of Trees\")\n",
    "plt.ylabel(\"OOB Error Rate\")\n",
    "plt.legend(loc='upper right')\n",
    "plt.show()"
   ]
  },
  {
   "cell_type": "code",
   "execution_count": 6,
   "metadata": {
    "collapsed": true
   },
   "outputs": [],
   "source": [
    "rf_clf = RandomForestClassifier(n_estimators=150,\n",
    "                                warm_start=True, \n",
    "                                max_features=None,\n",
    "                                oob_score=True)"
   ]
  },
  {
   "cell_type": "code",
   "execution_count": 7,
   "metadata": {
    "collapsed": true
   },
   "outputs": [],
   "source": [
    "rf_clf.fit(Xtrain, ytrain)\n",
    "ypred = rf_clf.predict(Xtest)"
   ]
  },
  {
   "cell_type": "code",
   "execution_count": 8,
   "metadata": {
    "collapsed": true
   },
   "outputs": [],
   "source": [
    "def binaryPerfReport(ytest, ypredict, output='metrics', \n",
    "                     labs=[True, False], cols=['T Pred', 'F Pred'],\n",
    "                     idx=['T Act', 'F Act']): \n",
    "    cm = pd.DataFrame(data=confusion_matrix(ytest, ypredict, \n",
    "                      labels=labs),\n",
    "                      columns=cols,\n",
    "                      index=idx)\n",
    "    \n",
    "    cols = ['Sensitivity', 'Specificity', 'F1', 'Accuracy']\n",
    "    dfperf = pd.DataFrame(index=idx, \n",
    "                          columns=cols)\n",
    "    for j in range(0, len(cm)):\n",
    "        if j == 0:\n",
    "            tp, fn, fp, tn = confusion_matrix(ytest, ypredict).ravel()\n",
    "        elif j == 1:\n",
    "            tn, fp, fn, tp = confusion_matrix(ytest, ypredict).ravel()\n",
    "        sens = float(tp) / (tp+fn)\n",
    "        spec = float(tn) / (tn+fp)\n",
    "        f1 = (2*float(tp)) / (2*tp+fp+fn)\n",
    "        acc = float(tp+tn) / (tp+tn+fp+fn)\n",
    "        dfperf.iloc[j,0] = sens\n",
    "        dfperf.iloc[j,1] = spec\n",
    "        dfperf.iloc[j,2] = f1\n",
    "        dfperf.iloc[j,3] = acc     \n",
    "    if output == 'metrics':\n",
    "        return dfperf\n",
    "    elif output == 'cm':\n",
    "        return cm"
   ]
  },
  {
   "cell_type": "code",
   "execution_count": 9,
   "metadata": {},
   "outputs": [
    {
     "data": {
      "text/html": [
       "<div>\n",
       "<style>\n",
       "    .dataframe thead tr:only-child th {\n",
       "        text-align: right;\n",
       "    }\n",
       "\n",
       "    .dataframe thead th {\n",
       "        text-align: left;\n",
       "    }\n",
       "\n",
       "    .dataframe tbody tr th {\n",
       "        vertical-align: top;\n",
       "    }\n",
       "</style>\n",
       "<table border=\"1\" class=\"dataframe\">\n",
       "  <thead>\n",
       "    <tr style=\"text-align: right;\">\n",
       "      <th></th>\n",
       "      <th>B Pred</th>\n",
       "      <th>M Pred</th>\n",
       "    </tr>\n",
       "  </thead>\n",
       "  <tbody>\n",
       "    <tr>\n",
       "      <th>B Actual</th>\n",
       "      <td>258</td>\n",
       "      <td>10</td>\n",
       "    </tr>\n",
       "    <tr>\n",
       "      <th>M Actual</th>\n",
       "      <td>11</td>\n",
       "      <td>148</td>\n",
       "    </tr>\n",
       "  </tbody>\n",
       "</table>\n",
       "</div>"
      ],
      "text/plain": [
       "          B Pred  M Pred\n",
       "B Actual     258      10\n",
       "M Actual      11     148"
      ]
     },
     "execution_count": 9,
     "metadata": {},
     "output_type": "execute_result"
    }
   ],
   "source": [
    "binaryPerfReport(ytest, ypred, \n",
    "                 output='cm', \n",
    "                 labs=['B','M'], \n",
    "                 idx=['B Actual','M Actual'],\n",
    "                cols=['B Pred','M Pred'])"
   ]
  },
  {
   "cell_type": "code",
   "execution_count": 10,
   "metadata": {},
   "outputs": [
    {
     "data": {
      "text/html": [
       "<div>\n",
       "<style>\n",
       "    .dataframe thead tr:only-child th {\n",
       "        text-align: right;\n",
       "    }\n",
       "\n",
       "    .dataframe thead th {\n",
       "        text-align: left;\n",
       "    }\n",
       "\n",
       "    .dataframe tbody tr th {\n",
       "        vertical-align: top;\n",
       "    }\n",
       "</style>\n",
       "<table border=\"1\" class=\"dataframe\">\n",
       "  <thead>\n",
       "    <tr style=\"text-align: right;\">\n",
       "      <th></th>\n",
       "      <th>Sensitivity</th>\n",
       "      <th>Specificity</th>\n",
       "      <th>F1</th>\n",
       "      <th>Accuracy</th>\n",
       "    </tr>\n",
       "  </thead>\n",
       "  <tbody>\n",
       "    <tr>\n",
       "      <th>B</th>\n",
       "      <td>0.962687</td>\n",
       "      <td>0.930818</td>\n",
       "      <td>0.960894</td>\n",
       "      <td>0.95082</td>\n",
       "    </tr>\n",
       "    <tr>\n",
       "      <th>M</th>\n",
       "      <td>0.930818</td>\n",
       "      <td>0.962687</td>\n",
       "      <td>0.933754</td>\n",
       "      <td>0.95082</td>\n",
       "    </tr>\n",
       "  </tbody>\n",
       "</table>\n",
       "</div>"
      ],
      "text/plain": [
       "  Sensitivity Specificity        F1 Accuracy\n",
       "B    0.962687    0.930818  0.960894  0.95082\n",
       "M    0.930818    0.962687  0.933754  0.95082"
      ]
     },
     "execution_count": 10,
     "metadata": {},
     "output_type": "execute_result"
    }
   ],
   "source": [
    "binaryPerfReport(ytest, ypred, output='metrics', \n",
    "                 labs=['B','M'], idx=['B','M'])"
   ]
  }
 ],
 "metadata": {
  "kernelspec": {
   "display_name": "Python 2",
   "language": "python",
   "name": "python2"
  },
  "language_info": {
   "codemirror_mode": {
    "name": "ipython",
    "version": 2
   },
   "file_extension": ".py",
   "mimetype": "text/x-python",
   "name": "python",
   "nbconvert_exporter": "python",
   "pygments_lexer": "ipython2",
   "version": "2.7.15"
  }
 },
 "nbformat": 4,
 "nbformat_minor": 2
}
