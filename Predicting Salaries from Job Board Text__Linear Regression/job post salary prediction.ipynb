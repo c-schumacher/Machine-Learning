{
 "cells": [
  {
   "cell_type": "code",
   "execution_count": 1,
   "metadata": {
    "collapsed": true
   },
   "outputs": [],
   "source": [
    "import sklearn\n",
    "from sklearn.linear_model import LinearRegression\n",
    "import pandas as pd\n",
    "import numpy as np\n",
    "import re\n",
    "from math import log\n",
    "import matplotlib\n",
    "import matplotlib.pyplot as plt\n",
    "from matplotlib.pyplot import figure"
   ]
  },
  {
   "cell_type": "code",
   "execution_count": 2,
   "metadata": {
    "collapsed": true
   },
   "outputs": [],
   "source": [
    "df = pd.read_csv('jobs.csv')\n",
    "df = df.sample(frac=1)"
   ]
  },
  {
   "cell_type": "code",
   "execution_count": 3,
   "metadata": {
    "collapsed": true
   },
   "outputs": [],
   "source": [
    "df_train, df_test = df.iloc[:1200], df.iloc[1200:]"
   ]
  },
  {
   "cell_type": "markdown",
   "metadata": {},
   "source": [
    "##### Extracting vocabulary from the training set"
   ]
  },
  {
   "cell_type": "code",
   "execution_count": 4,
   "metadata": {
    "collapsed": true
   },
   "outputs": [],
   "source": [
    "finder = re.compile('\\w\\w\\w\\w\\w\\w\\w\\w\\w+')    #finding words with 9 consecutive characters"
   ]
  },
  {
   "cell_type": "code",
   "execution_count": 5,
   "metadata": {
    "collapsed": true
   },
   "outputs": [],
   "source": [
    "def initCorpus(df):\n",
    "    corpus = []\n",
    "    for title in df.Title:\n",
    "        corpus.append(finder.findall(title.lower()))\n",
    "    corpus = [listToDict(title) for title in corpus]\n",
    "    return corpus"
   ]
  },
  {
   "cell_type": "code",
   "execution_count": 6,
   "metadata": {
    "collapsed": true
   },
   "outputs": [],
   "source": [
    "def listToDict(title):\n",
    "    d = {}\n",
    "    words = set(title)\n",
    "    for word in words:\n",
    "        d[word] = title.count(word)\n",
    "    return d"
   ]
  },
  {
   "cell_type": "code",
   "execution_count": 7,
   "metadata": {
    "collapsed": true
   },
   "outputs": [],
   "source": [
    "train_corpus = initCorpus(df_train)\n",
    "test_corpus = initCorpus(df_test)"
   ]
  },
  {
   "cell_type": "markdown",
   "metadata": {},
   "source": [
    "##### Total number of distinct words"
   ]
  },
  {
   "cell_type": "code",
   "execution_count": 8,
   "metadata": {},
   "outputs": [
    {
     "name": "stdout",
     "output_type": "stream",
     "text": [
      "There are 401 distinct words in the titles from the training set\n"
     ]
    }
   ],
   "source": [
    "train_words = reduce(lambda x,y: x|y, [set(title.keys()) for title in train_corpus])\n",
    "print 'There are %d distinct words in the titles from the training set' % len(train_words)"
   ]
  },
  {
   "cell_type": "markdown",
   "metadata": {},
   "source": [
    "##### Computing the inverse document frequency of each word in the vocabulary"
   ]
  },
  {
   "cell_type": "code",
   "execution_count": 9,
   "metadata": {
    "collapsed": true
   },
   "outputs": [],
   "source": [
    "def computeIdf(corpus, words, min_freq):\n",
    "    idf = {}\n",
    "    for k, word in enumerate(words):\n",
    "        d = 0\n",
    "        for title in corpus:\n",
    "            if word in title: \n",
    "                d+=1\n",
    "        if d >= min_freq:            \n",
    "            idf[word] = log(float(len(corpus))/(1+d))\n",
    "    v = [[idf[word],word] for word in idf]  \n",
    "    v.sort()\n",
    "    words = [word for freq, word in v]\n",
    "    return idf,words"
   ]
  },
  {
   "cell_type": "code",
   "execution_count": 10,
   "metadata": {
    "collapsed": true
   },
   "outputs": [],
   "source": [
    "idf, train_words = computeIdf(train_corpus, train_words, min_freq=5)"
   ]
  },
  {
   "cell_type": "code",
   "execution_count": 11,
   "metadata": {},
   "outputs": [
    {
     "data": {
      "image/png": "[encoded data removed]",
      "text/plain": [
       "<matplotlib.figure.Figure at 0xccfe1d0>"
      ]
     },
     "metadata": {},
     "output_type": "display_data"
    }
   ],
   "source": [
    "figure(figsize=(6,4))\n",
    "plt.hist(idf.values())\n",
    "plt.xlabel('Bin')\n",
    "plt.ylabel('Count of Words')\n",
    "plt.title('Binned IDF Values')\n",
    "plt.show()"
   ]
  },
  {
   "cell_type": "markdown",
   "metadata": {},
   "source": [
    "##### The top 10 and bottom 10 words by idf  "
   ]
  },
  {
   "cell_type": "code",
   "execution_count": 12,
   "metadata": {},
   "outputs": [
    {
     "name": "stdout",
     "output_type": "stream",
     "text": [
      "The top 10 words by idf are ['environmental', 'installation', 'laboratory', 'lauderdale', 'louisville', 'professional', 'regulatory', 'scientist', 'steakburgers', 'therapist']:\n",
      "\n",
      "The bottom 10 words by idf are: ['accountant', 'restaurant', 'representative', 'assistant', 'cincinnati', 'supervisor', 'technician', 'advertising', 'manufacturing', 'accounting']\n"
     ]
    }
   ],
   "source": [
    "print 'The top 10 words by idf are %s:' % train_words[-10:]\n",
    "print '\\nThe bottom 10 words by idf are: %s' % train_words[:10]"
   ]
  },
  {
   "cell_type": "markdown",
   "metadata": {},
   "source": [
    "##### The 50 words with the highest idf"
   ]
  },
  {
   "cell_type": "code",
   "execution_count": 13,
   "metadata": {
    "collapsed": true
   },
   "outputs": [],
   "source": [
    "train_topwords = train_words[-50:]"
   ]
  },
  {
   "cell_type": "markdown",
   "metadata": {},
   "source": [
    "##### Associating to each job 50 features corresponding to the tf-idf metric of those 50 words"
   ]
  },
  {
   "cell_type": "code",
   "execution_count": 14,
   "metadata": {
    "collapsed": true
   },
   "outputs": [],
   "source": [
    "def addWordFeats(df, corpus, topwords):\n",
    "    tfIdf = computeTfIdf(corpus, topwords)\n",
    "    tempDf = pd.DataFrame(data = tfIdf, index = df.index, columns = topwords)\n",
    "    df = pd.concat([df, tempDf], axis=1)\n",
    "    return df"
   ]
  },
  {
   "cell_type": "code",
   "execution_count": 15,
   "metadata": {
    "collapsed": true
   },
   "outputs": [],
   "source": [
    "def computeTfIdf(corpus, topwords):\n",
    "    X = np.ndarray((len(corpus), len(topwords)))\n",
    "    for i in range(len(corpus)):\n",
    "        title = corpus[i]\n",
    "        for j in range(len(topwords)):\n",
    "            word = topwords[j]\n",
    "            idf_word = idf[word]\n",
    "            tf = title.get(word,0)\n",
    "            feature = tf * idf_word\n",
    "            X[i,j] = feature\n",
    "    return X"
   ]
  },
  {
   "cell_type": "code",
   "execution_count": 16,
   "metadata": {
    "collapsed": true
   },
   "outputs": [],
   "source": [
    "df_train = addWordFeats(df_train, train_corpus, train_topwords)\n",
    "df_test = addWordFeats(df_test, test_corpus, train_topwords)"
   ]
  },
  {
   "cell_type": "markdown",
   "metadata": {},
   "source": [
    "##### Using those features to run linear regrssion and trying o predict the salary for the rows in the testing set"
   ]
  },
  {
   "cell_type": "code",
   "execution_count": 17,
   "metadata": {
    "collapsed": true
   },
   "outputs": [],
   "source": [
    "X_train, y_train = df_train[df_train.columns.drop(['Title','Salary'])], df_train.Salary"
   ]
  },
  {
   "cell_type": "code",
   "execution_count": 18,
   "metadata": {
    "collapsed": true
   },
   "outputs": [],
   "source": [
    "X_test, y_test = df_test[df_test.columns.drop(['Title','Salary'])], df_test.Salary"
   ]
  },
  {
   "cell_type": "code",
   "execution_count": 19,
   "metadata": {
    "collapsed": true
   },
   "outputs": [],
   "source": [
    "model = LinearRegression()\n",
    "model.fit(X_train, y_train)\n",
    "y_pred = model.predict(X_test)"
   ]
  },
  {
   "cell_type": "markdown",
   "metadata": {},
   "source": [
    "##### RMSE"
   ]
  },
  {
   "cell_type": "code",
   "execution_count": 20,
   "metadata": {
    "collapsed": true
   },
   "outputs": [],
   "source": [
    "def RMSE(y_test, y_pred):\n",
    "    return (((y_test - y_pred)**2).sum()/len(y_test))**0.5"
   ]
  },
  {
   "cell_type": "code",
   "execution_count": 21,
   "metadata": {},
   "outputs": [
    {
     "name": "stdout",
     "output_type": "stream",
     "text": [
      "The RMSE for this model is: 19979.6351002\n"
     ]
    }
   ],
   "source": [
    "print 'The RMSE for this model is:',RMSE(y_test, y_pred)"
   ]
  },
  {
   "cell_type": "markdown",
   "metadata": {},
   "source": [
    "##### Word that are associated to the highest salaries"
   ]
  },
  {
   "cell_type": "markdown",
   "metadata": {},
   "source": [
    "For this exploration I recomputed the tf-idf features for the full dataset in order to get a sense of the most important words based on the whole dataset instead of the testing dataset alone."
   ]
  },
  {
   "cell_type": "code",
   "execution_count": 22,
   "metadata": {
    "collapsed": true
   },
   "outputs": [],
   "source": [
    "df2 = df.copy()\n",
    "finder = re.compile('\\w\\w\\w\\w\\w\\w\\w\\w\\w+')\n",
    "df2_corpus = initCorpus(df2)\n",
    "df2_words = reduce(lambda x,y: x|y, [set(title.keys()) for title in df2_corpus])\n",
    "idf, df2_words = computeIdf(df2_corpus, df2_words, min_freq=5)\n",
    "df2_topwords = df2_words[-50:]\n",
    "df2 = addWordFeats(df2, df2_corpus, df2_topwords)"
   ]
  },
  {
   "cell_type": "code",
   "execution_count": 23,
   "metadata": {
    "collapsed": true
   },
   "outputs": [],
   "source": [
    "max_salaries = df2.sort_values(by='Salary',ascending=False).head(len(df2)/10)"
   ]
  },
  {
   "cell_type": "code",
   "execution_count": 24,
   "metadata": {},
   "outputs": [
    {
     "data": {
      "image/png": "[encoded data removed]",
      "text/plain": [
       "<matplotlib.figure.Figure at 0xd1be860>"
      ]
     },
     "metadata": {},
     "output_type": "display_data"
    }
   ],
   "source": [
    "figure(figsize=(6,4))\n",
    "plt.hist(max_salaries.Salary)\n",
    "plt.xlabel('Salary Bins (USD)')\n",
    "plt.ylabel('Count of Jobs')\n",
    "plt.title('Top 10% of Salaries')\n",
    "plt.show()"
   ]
  },
  {
   "cell_type": "code",
   "execution_count": 25,
   "metadata": {
    "collapsed": true,
    "scrolled": true
   },
   "outputs": [],
   "source": [
    "max_sal_corr = max_salaries.corr().iloc[0,1:]\n",
    "maxwords = max_sal_corr.sort_values(ascending=False).head(10).index.values"
   ]
  },
  {
   "cell_type": "code",
   "execution_count": 26,
   "metadata": {},
   "outputs": [
    {
     "name": "stdout",
     "output_type": "stream",
     "text": [
      "Top words associated with of highest 10% of paying jobs: ['cambridge', 'telecommunications', 'regulatory', 'architect', 'chattanooga', 'injection', 'machinist', 'laboratory', 'technical', 'indianapolis']\n"
     ]
    }
   ],
   "source": [
    "print 'Top words associated with of highest 10%% of paying jobs: %s' % maxwords.tolist()"
   ]
  },
  {
   "cell_type": "markdown",
   "metadata": {},
   "source": [
    "##### Words that are associated to the lowest salaries"
   ]
  },
  {
   "cell_type": "code",
   "execution_count": 27,
   "metadata": {
    "collapsed": true
   },
   "outputs": [],
   "source": [
    "min_salaries = df2.sort_values(by='Salary',ascending=True).head(len(df2)/10)"
   ]
  },
  {
   "cell_type": "code",
   "execution_count": 28,
   "metadata": {
    "scrolled": false
   },
   "outputs": [
    {
     "data": {
      "image/png": "[encoded data removed]",
      "text/plain": [
       "<matplotlib.figure.Figure at 0xd1cc4a8>"
      ]
     },
     "metadata": {},
     "output_type": "display_data"
    }
   ],
   "source": [
    "figure(figsize=(6,4))\n",
    "plt.hist(min_salaries.Salary)\n",
    "plt.xlabel('Salary Bins (USD)')\n",
    "plt.ylabel('Count of Jobs')\n",
    "plt.title('Bottom 10% of Salaries')\n",
    "plt.show()"
   ]
  },
  {
   "cell_type": "code",
   "execution_count": 29,
   "metadata": {
    "collapsed": true,
    "scrolled": true
   },
   "outputs": [],
   "source": [
    "min_sal_corr = min_salaries.corr().iloc[0,1:]\n",
    "minwords = min_sal_corr.sort_values(ascending=False).head(10).index.values"
   ]
  },
  {
   "cell_type": "code",
   "execution_count": 30,
   "metadata": {},
   "outputs": [
    {
     "name": "stdout",
     "output_type": "stream",
     "text": [
      "Top words associated with of lowest 10% of paying jobs: ['facilities', 'engineering', 'regulatory', 'indianapolis', 'estimator', 'chattanooga', 'marlborough', 'springfield', 'arlington', 'louisville']\n"
     ]
    }
   ],
   "source": [
    "print 'Top words associated with of lowest 10%% of paying jobs: %s' % minwords.tolist()"
   ]
  }
 ],
 "metadata": {
  "kernelspec": {
   "display_name": "Python 2",
   "language": "python",
   "name": "python2"
  },
  "language_info": {
   "codemirror_mode": {
    "name": "ipython",
    "version": 2
   },
   "file_extension": ".py",
   "mimetype": "text/x-python",
   "name": "python",
   "nbconvert_exporter": "python",
   "pygments_lexer": "ipython2",
   "version": "2.7.15"
  }
 },
 "nbformat": 4,
 "nbformat_minor": 2
}
